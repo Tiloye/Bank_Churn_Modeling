{
 "cells": [
  {
   "cell_type": "code",
   "execution_count": 28,
   "metadata": {},
   "outputs": [],
   "source": [
    "import pandas as pd\n",
    "import gradio as gr\n",
    "import joblib as jb\n",
    "import plotly.express as px\n",
    "from sklearn.metrics import confusion_matrix, accuracy_score, precision_score, recall_score"
   ]
  },
  {
   "cell_type": "code",
   "execution_count": 2,
   "metadata": {},
   "outputs": [],
   "source": [
    "# load data and model\n",
    "test_data = pd.read_csv(\"./data/test_data.csv\")\n",
    "model = jb.load(\"./model/model.pkl\")"
   ]
  },
  {
   "cell_type": "code",
   "execution_count": 3,
   "metadata": {},
   "outputs": [],
   "source": [
    "# split data\n",
    "target = \"Exited\"\n",
    "X = test_data.drop(columns=[\"RowNumber\", \"Exited\"])\n",
    "y = test_data[target]\n",
    "\n",
    "# predict probabilities\n",
    "prediction_probabilites = model.predict_proba(X)[:,1]"
   ]
  },
  {
   "cell_type": "code",
   "execution_count": 30,
   "metadata": {},
   "outputs": [],
   "source": [
    "def show_metrics(probability_threshold, crc, cac):\n",
    "    \"\"\"\n",
    "    Parameters\n",
    "    ----------\n",
    "    probability_threshold: float\n",
    "        probability threshold for model prediction\n",
    "    crc: int\n",
    "        Customer retention cost\n",
    "    cac: int\n",
    "        Customer aquisition cost\n",
    "    \n",
    "    Returns\n",
    "    -------\n",
    "    figure: ConfusionMatrix\n",
    "        Confusion matrix showing True values vs Predicted values\n",
    "    evaluation metrics: float\n",
    "        Accuracy, Precision, and Recall scores\n",
    "    amounts: int\n",
    "        costs associated with model predictions\n",
    "    \"\"\"\n",
    "\n",
    "    # get predictions\n",
    "    predictions = (prediction_probabilites >= probability_threshold).astype(int)\n",
    "\n",
    "    # get confusion matrix\n",
    "    matrix_array = confusion_matrix(y, predictions)\n",
    "\n",
    "    # plot confusion matrix\n",
    "    fig = px.imshow(\n",
    "        matrix_array,\n",
    "        labels=dict(x=\"Predicted Value\", y=\"True Value\"),\n",
    "        x = [\"False\", \"True\"],\n",
    "        y = [\"False\", \"True\"],\n",
    "        text_auto=True,\n",
    "        aspect=\"auto\",\n",
    "        color_continuous_scale=px.colors.sequential.gray\n",
    "        )\n",
    "    fig.update_xaxes(side=\"bottom\")\n",
    "    fig.update_layout(title_text=\"Confusion Matrix\", title_x=0.5, coloraxis_showscale=False)\n",
    "\n",
    "    # get metrics\n",
    "    accuracy = accuracy_score(y, predictions).round(2)\n",
    "    precision = precision_score(y, predictions).round(2)\n",
    "    recall = recall_score(y, predictions).round(2)\n",
    "\n",
    "    # get costs\n",
    "    retention_cost = matrix_array.sum(axis=0)[1] * crc # crc cost with model\n",
    "    aquisition_cost = matrix_array[1][0] * cac # cac with model\n",
    "    total = retention_cost + aquisition_cost # total amount spent on customer aquisition and retention\n",
    "    amount_saved = (matrix_array.sum(axis=1)[1] * cac) - total\n",
    "\n",
    "    return fig, accuracy, precision, recall, retention_cost, aquisition_cost, total, amount_saved"
   ]
  },
  {
   "cell_type": "code",
   "execution_count": 31,
   "metadata": {},
   "outputs": [
    {
     "name": "stdout",
     "output_type": "stream",
     "text": [
      "Running on local URL:  http://127.0.0.1:7871\n",
      "\n",
      "To create a public link, set `share=True` in `launch()`.\n"
     ]
    },
    {
     "data": {
      "text/html": [
       "<div><iframe src=\"http://127.0.0.1:7871/\" width=\"900\" height=\"500\" allow=\"autoplay; camera; microphone; clipboard-read; clipboard-write;\" frameborder=\"0\" allowfullscreen></iframe></div>"
      ],
      "text/plain": [
       "<IPython.core.display.HTML object>"
      ]
     },
     "metadata": {},
     "output_type": "display_data"
    },
    {
     "data": {
      "text/plain": [
       "(<gradio.routes.App at 0x7f549427dc30>, 'http://127.0.0.1:7871/', None)"
      ]
     },
     "execution_count": 31,
     "metadata": {},
     "output_type": "execute_result"
    }
   ],
   "source": [
    "# gradio blocks\n",
    "\n",
    "with gr.Blocks() as demo:\n",
    "\n",
    "    with gr.Row():\n",
    "        pr_threshold = gr.Slider(minimum=0.0, maximum=1.0, value=0.5)\n",
    "\n",
    "    with gr.Row():\n",
    "        pr_confusion_matrix = gr.Plot(label=\"True Value vs Predicted Value\")\n",
    "\n",
    "    with gr.Row():\n",
    "        # with gr.Column():\n",
    "            accuracy = gr.Number(label=\"Accuracy Score\")\n",
    "            precision = gr.Number(label=\"Precision Score\")\n",
    "            recall = gr.Number(label=\"Recall Score\")\n",
    "\n",
    "    with gr.Row():\n",
    "        crc = gr.Number(value=50, label=\"Customer Retention Cost (€)\")\n",
    "        cac = gr.Number(value=200, label=\"Customer Acquisiton Cost(€)\")\n",
    "\n",
    "    with gr.Row():\n",
    "        total_crc = gr.Number(label=\"Customer Retention Cost(€)\")\n",
    "        total_cac = gr.Number(label=\"Customer Aquisition Cost(€)\")\n",
    "    with gr.Row():\n",
    "        total_amount = gr.Number(label=\"Total Amount(€)\")\n",
    "        amount_saved = gr.Number(label=\"Amount Saved(€)\")\n",
    "\n",
    "    show_metrics_btn = gr.Button(\"Show Metrics\")\n",
    "    show_metrics_btn.click(\n",
    "        fn=show_metrics,\n",
    "        inputs=[pr_threshold, crc, cac],\n",
    "        outputs=[pr_confusion_matrix, accuracy, precision, recall, total_crc, total_cac, total_amount, amount_saved]\n",
    "        )\n",
    "\n",
    "demo.launch()"
   ]
  },
  {
   "cell_type": "code",
   "execution_count": null,
   "metadata": {},
   "outputs": [],
   "source": []
  }
 ],
 "metadata": {
  "kernelspec": {
   "display_name": "Python 3.10.4 ('ds_env')",
   "language": "python",
   "name": "python3"
  },
  "language_info": {
   "codemirror_mode": {
    "name": "ipython",
    "version": 3
   },
   "file_extension": ".py",
   "mimetype": "text/x-python",
   "name": "python",
   "nbconvert_exporter": "python",
   "pygments_lexer": "ipython3",
   "version": "3.10.4"
  },
  "orig_nbformat": 4,
  "vscode": {
   "interpreter": {
    "hash": "d779b7d47439e34625c7d1f77a06b1bba79b98af6304c943da3be42205d684df"
   }
  }
 },
 "nbformat": 4,
 "nbformat_minor": 2
}
