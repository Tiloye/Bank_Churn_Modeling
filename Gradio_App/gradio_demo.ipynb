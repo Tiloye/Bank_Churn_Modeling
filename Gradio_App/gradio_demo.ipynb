{
 "cells": [
  {
   "cell_type": "code",
   "execution_count": 1,
   "metadata": {},
   "outputs": [],
   "source": [
    "import pandas as pd\n",
    "import gradio as gr\n",
    "import joblib as jb\n",
    "import plotly.express as px\n",
    "import seaborn as sns\n",
    "from sklearn.metrics import confusion_matrix, accuracy_score, precision_score, recall_score, ConfusionMatrixDisplay"
   ]
  },
  {
   "cell_type": "code",
   "execution_count": 2,
   "metadata": {},
   "outputs": [
    {
     "data": {
      "text/html": [
       "<div>\n",
       "<style scoped>\n",
       "    .dataframe tbody tr th:only-of-type {\n",
       "        vertical-align: middle;\n",
       "    }\n",
       "\n",
       "    .dataframe tbody tr th {\n",
       "        vertical-align: top;\n",
       "    }\n",
       "\n",
       "    .dataframe thead th {\n",
       "        text-align: right;\n",
       "    }\n",
       "</style>\n",
       "<table border=\"1\" class=\"dataframe\">\n",
       "  <thead>\n",
       "    <tr style=\"text-align: right;\">\n",
       "      <th></th>\n",
       "      <th>RowNumber</th>\n",
       "      <th>CreditScore</th>\n",
       "      <th>Geography</th>\n",
       "      <th>Gender</th>\n",
       "      <th>Age</th>\n",
       "      <th>Tenure</th>\n",
       "      <th>Balance</th>\n",
       "      <th>NumOfProducts</th>\n",
       "      <th>HasCrCard</th>\n",
       "      <th>IsActiveMember</th>\n",
       "      <th>EstimatedSalary</th>\n",
       "      <th>Exited</th>\n",
       "    </tr>\n",
       "  </thead>\n",
       "  <tbody>\n",
       "    <tr>\n",
       "      <th>0</th>\n",
       "      <td>5703</td>\n",
       "      <td>585</td>\n",
       "      <td>France</td>\n",
       "      <td>Male</td>\n",
       "      <td>36</td>\n",
       "      <td>7</td>\n",
       "      <td>0.00</td>\n",
       "      <td>2</td>\n",
       "      <td>1</td>\n",
       "      <td>0</td>\n",
       "      <td>94283.09</td>\n",
       "      <td>0</td>\n",
       "    </tr>\n",
       "    <tr>\n",
       "      <th>1</th>\n",
       "      <td>3668</td>\n",
       "      <td>525</td>\n",
       "      <td>Germany</td>\n",
       "      <td>Male</td>\n",
       "      <td>33</td>\n",
       "      <td>4</td>\n",
       "      <td>131023.76</td>\n",
       "      <td>2</td>\n",
       "      <td>0</td>\n",
       "      <td>0</td>\n",
       "      <td>55072.93</td>\n",
       "      <td>0</td>\n",
       "    </tr>\n",
       "    <tr>\n",
       "      <th>2</th>\n",
       "      <td>1618</td>\n",
       "      <td>557</td>\n",
       "      <td>Spain</td>\n",
       "      <td>Female</td>\n",
       "      <td>40</td>\n",
       "      <td>4</td>\n",
       "      <td>0.00</td>\n",
       "      <td>2</td>\n",
       "      <td>0</td>\n",
       "      <td>1</td>\n",
       "      <td>105433.53</td>\n",
       "      <td>0</td>\n",
       "    </tr>\n",
       "    <tr>\n",
       "      <th>3</th>\n",
       "      <td>5674</td>\n",
       "      <td>639</td>\n",
       "      <td>Spain</td>\n",
       "      <td>Male</td>\n",
       "      <td>34</td>\n",
       "      <td>5</td>\n",
       "      <td>139393.19</td>\n",
       "      <td>2</td>\n",
       "      <td>0</td>\n",
       "      <td>0</td>\n",
       "      <td>33950.08</td>\n",
       "      <td>0</td>\n",
       "    </tr>\n",
       "    <tr>\n",
       "      <th>4</th>\n",
       "      <td>4273</td>\n",
       "      <td>640</td>\n",
       "      <td>Spain</td>\n",
       "      <td>Female</td>\n",
       "      <td>34</td>\n",
       "      <td>3</td>\n",
       "      <td>77826.80</td>\n",
       "      <td>1</td>\n",
       "      <td>1</td>\n",
       "      <td>1</td>\n",
       "      <td>168544.85</td>\n",
       "      <td>0</td>\n",
       "    </tr>\n",
       "  </tbody>\n",
       "</table>\n",
       "</div>"
      ],
      "text/plain": [
       "   RowNumber  CreditScore Geography  Gender  Age  Tenure    Balance  \\\n",
       "0       5703          585    France    Male   36       7       0.00   \n",
       "1       3668          525   Germany    Male   33       4  131023.76   \n",
       "2       1618          557     Spain  Female   40       4       0.00   \n",
       "3       5674          639     Spain    Male   34       5  139393.19   \n",
       "4       4273          640     Spain  Female   34       3   77826.80   \n",
       "\n",
       "   NumOfProducts  HasCrCard  IsActiveMember  EstimatedSalary  Exited  \n",
       "0              2          1               0         94283.09       0  \n",
       "1              2          0               0         55072.93       0  \n",
       "2              2          0               1        105433.53       0  \n",
       "3              2          0               0         33950.08       0  \n",
       "4              1          1               1        168544.85       0  "
      ]
     },
     "execution_count": 2,
     "metadata": {},
     "output_type": "execute_result"
    }
   ],
   "source": [
    "# load data and model\n",
    "test_data = pd.read_csv(\"./data/test_data.csv\")\n",
    "model = jb.load(\"./model/model.pkl\")\n",
    "\n",
    "test_data.head()"
   ]
  },
  {
   "cell_type": "code",
   "execution_count": 3,
   "metadata": {},
   "outputs": [],
   "source": [
    "# split data\n",
    "target = \"Exited\"\n",
    "X = test_data.drop(columns=[\"RowNumber\", \"Exited\"])\n",
    "y = test_data[target]\n",
    "\n",
    "# predict probabilities\n",
    "prediction_probabilites = model.predict_proba(X)[:,1]"
   ]
  },
  {
   "cell_type": "code",
   "execution_count": 10,
   "metadata": {},
   "outputs": [],
   "source": [
    "def predict(probability_threshold, crc, cac):\n",
    "    \"\"\"\n",
    "    Parameters\n",
    "    ----------\n",
    "    probability_threshold: float\n",
    "        probability threshold for model prediction\n",
    "    crc: int\n",
    "        Customer retention cost\n",
    "    cac: int\n",
    "        Customer aquisition cost\n",
    "    \n",
    "    Returns\n",
    "    -------\n",
    "    figure: ConfusionMatrix\n",
    "        Confusion matrix showing True values vs Predicted values\n",
    "    evaluation metrics: float\n",
    "        Accuracy, Precision, and Recall scores\n",
    "    amounts: int\n",
    "        costs of using or not using a model in monetary value\n",
    "    \"\"\"\n",
    "\n",
    "    # get predictions\n",
    "    predictions = (prediction_probabilites >= probability_threshold).astype(int)\n",
    "\n",
    "    # get confusion matrix\n",
    "    matrix_array = confusion_matrix(y, predictions)\n",
    "    # fig = ConfusionMatrixDisplay.from_predictions(y, predictions, colorbar=False)\n",
    "\n",
    "    fig = px.imshow(\n",
    "        matrix_array,\n",
    "        labels=dict(x=\"Predicted Value\", y=\"True Value\"),\n",
    "        x = [\"False\", \"True\"],\n",
    "        y = [\"False\", \"True\"],\n",
    "        text_auto=True,\n",
    "        aspect=\"auto\")\n",
    "    fig.update_xaxes(side=\"bottom\")\n",
    "    fig.update_traces(dict(showscale=False, coloraxis=None))\n",
    "\n",
    "    # get metrics\n",
    "    accuracy = accuracy_score(y, predictions).round(2)\n",
    "    precision = precision_score(y, predictions).round(2)\n",
    "    recall = recall_score(y, predictions).round(2)\n",
    "\n",
    "    # get costs\n",
    "    retention_cost = matrix_array.sum(axis=0)[1] * crc # crc cost with model\n",
    "    aquisition_cost = matrix_array[1][0] * cac # cac with model\n",
    "    total = retention_cost + aquisition_cost # total amount spent on customer aquisition and retention\n",
    "    amount_saved = (matrix_array.sum(axis=1)[1] * cac) - total\n",
    "\n",
    "    return fig, accuracy, precision, recall, retention_cost, aquisition_cost, total, amount_saved"
   ]
  },
  {
   "cell_type": "code",
   "execution_count": 13,
   "metadata": {},
   "outputs": [
    {
     "name": "stdout",
     "output_type": "stream",
     "text": [
      "\n",
      "Thanks for being a Gradio user! If you have questions or feedback, please join our Discord server and chat with us: https://discord.gg/feTf9x3ZSB\n",
      "Running on local URL:  http://127.0.0.1:7865\n",
      "\n",
      "To create a public link, set `share=True` in `launch()`.\n"
     ]
    },
    {
     "data": {
      "text/html": [
       "<div><iframe src=\"http://127.0.0.1:7865/\" width=\"900\" height=\"500\" allow=\"autoplay; camera; microphone; clipboard-read; clipboard-write;\" frameborder=\"0\" allowfullscreen></iframe></div>"
      ],
      "text/plain": [
       "<IPython.core.display.HTML object>"
      ]
     },
     "metadata": {},
     "output_type": "display_data"
    },
    {
     "data": {
      "text/plain": [
       "(<gradio.routes.App at 0x7f5b7c5f3340>, 'http://127.0.0.1:7865/', None)"
      ]
     },
     "execution_count": 13,
     "metadata": {},
     "output_type": "execute_result"
    }
   ],
   "source": [
    "demo = gr.Interface(\n",
    "    fn=predict,\n",
    "    inputs=[\n",
    "            gr.Slider(minimum=0.0, maximum=1.0, value=0.5),\n",
    "            gr.Number(value=50, label=\"Customer Retention Cost (€)\"),\n",
    "            gr.Number(value=200, label=\"Customer Acquisiton Cost(€)\")\n",
    "        ],\n",
    "    outputs=[\n",
    "            gr.Plot(label=\"True Value vs Predicted Value\"),\n",
    "            gr.Number(label=\"Accuracy Score\"),\n",
    "            gr.Number(label=\"Precision Score\"),\n",
    "            gr.Number(label=\"Recall Score\"),\n",
    "            gr.Number(label=\"Customer Retention Cost(€)\"),\n",
    "            gr.Number(label=\"Customer Aquisition Cost(€)\"),\n",
    "            gr.Number(label=\"Total Amount(€)\"),\n",
    "            gr.Number(label=\"Amount Saved(€)\")\n",
    "        ]\n",
    ")\n",
    "\n",
    "demo.launch()"
   ]
  },
  {
   "cell_type": "code",
   "execution_count": null,
   "metadata": {},
   "outputs": [],
   "source": []
  }
 ],
 "metadata": {
  "kernelspec": {
   "display_name": "Python 3.10.4 ('ds_env')",
   "language": "python",
   "name": "python3"
  },
  "language_info": {
   "codemirror_mode": {
    "name": "ipython",
    "version": 3
   },
   "file_extension": ".py",
   "mimetype": "text/x-python",
   "name": "python",
   "nbconvert_exporter": "python",
   "pygments_lexer": "ipython3",
   "version": "3.10.4"
  },
  "orig_nbformat": 4,
  "vscode": {
   "interpreter": {
    "hash": "d779b7d47439e34625c7d1f77a06b1bba79b98af6304c943da3be42205d684df"
   }
  }
 },
 "nbformat": 4,
 "nbformat_minor": 2
}
