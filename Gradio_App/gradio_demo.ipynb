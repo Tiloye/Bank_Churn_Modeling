{
 "cells": [
  {
   "cell_type": "code",
   "execution_count": 5,
   "metadata": {},
   "outputs": [
    {
     "name": "stdout",
     "output_type": "stream",
     "text": [
      "Running on local URL:  http://127.0.0.1:7863\n",
      "\n",
      "To create a public link, set `share=True` in `launch()`.\n"
     ]
    },
    {
     "data": {
      "text/html": [
       "<div><iframe src=\"http://127.0.0.1:7863/\" width=\"900\" height=\"500\" allow=\"autoplay; camera; microphone; clipboard-read; clipboard-write;\" frameborder=\"0\" allowfullscreen></iframe></div>"
      ],
      "text/plain": [
       "<IPython.core.display.HTML object>"
      ]
     },
     "metadata": {},
     "output_type": "display_data"
    }
   ],
   "source": [
    "import gradio as gr\n",
    "from metrics import show_metrics, estimate_costs\n",
    "\n",
    "# buid app UI\n",
    "with gr.Blocks(title=\"Precision-Recall Trade-off for Churn Prediction Model\") as demo:\n",
    "\n",
    "    with gr.Row():\n",
    "        pr_threshold = gr.Slider(minimum=0.0, maximum=1.0, value=0.5)\n",
    "        # assign prediction probabilities here\n",
    "    with gr.Row():\n",
    "        with gr.Column():\n",
    "            pr_confusion_matrix = gr.Plot(label=\"True Value vs Predicted Value\")\n",
    "        with gr.Column():\n",
    "            with gr.Row():\n",
    "                with gr.Column():\n",
    "                    accuracy = gr.Number(label=\"Accuracy Score\")\n",
    "                    precision = gr.Number(label=\"Precision Score\")\n",
    "                    recall = gr.Number(label=\"Recall Score\")\n",
    "                with gr.Column():\n",
    "                    crc = gr.Number(value=50, label=\"Customer Retention Cost (€)\")\n",
    "                    cac = gr.Number(value=200, label=\"Customer Acquisiton Cost(€)\")\n",
    "            with gr.Row():\n",
    "                with gr.Column():\n",
    "                    total_crc = gr.Number(label=\"Total Customer Retention Cost(€)\")\n",
    "                    total_cac = gr.Number(label=\"Total Customer Aquisition Cost(€)\")\n",
    "                with gr.Column():\n",
    "                    total_amount = gr.Number(label=\"Total Amount Spent(€)\")\n",
    "                    amount_saved = gr.Number(label=\"Amount Saved(€)\")\n",
    "\n",
    "    # with gr.Row():\n",
    "    #     crc = gr.Number(value=50, label=\"Customer Retention Cost (€)\")\n",
    "    #     cac = gr.Number(value=200, label=\"Customer Acquisiton Cost(€)\")\n",
    "\n",
    "    # with gr.Row():\n",
    "    #     total_crc = gr.Number(label=\"Total Customer Retention Cost(€)\")\n",
    "    #     total_cac = gr.Number(label=\"Total Customer Aquisition Cost(€)\")\n",
    "    # with gr.Row():\n",
    "    #     total_amount = gr.Number(label=\"Total Amount Spent(€)\")\n",
    "    #     amount_saved = gr.Number(label=\"Amount Saved(€)\")\n",
    "\n",
    "    demo.load(\n",
    "        fn=show_metrics,\n",
    "        inputs=[pr_threshold],\n",
    "        outputs=[pr_confusion_matrix, accuracy, precision, recall]\n",
    "    )\n",
    "    demo.load(\n",
    "        fn=estimate_costs,\n",
    "        inputs=[pr_threshold, crc, cac],\n",
    "        outputs=[total_crc, total_cac, total_amount, amount_saved]\n",
    "    )\n",
    "    pr_threshold.change(\n",
    "        fn=show_metrics,\n",
    "        inputs=[pr_threshold],\n",
    "        outputs=[pr_confusion_matrix, accuracy, precision, recall]   \n",
    "    )\n",
    "    pr_threshold.change(\n",
    "        fn=estimate_costs,\n",
    "        inputs=[pr_threshold, crc, cac],\n",
    "        outputs=[total_crc, total_cac, total_amount, amount_saved]\n",
    "    )\n",
    "    crc.change(\n",
    "        fn=estimate_costs,\n",
    "        inputs=[pr_threshold, crc, cac],\n",
    "        outputs=[total_crc, total_cac, total_amount, amount_saved]\n",
    "    )\n",
    "    cac.change(\n",
    "        fn=estimate_costs,\n",
    "        inputs=[pr_threshold, crc, cac],\n",
    "        outputs=[total_crc, total_cac, total_amount, amount_saved]\n",
    "    )\n",
    "\n",
    "if __name__ == \"__main__\":\n",
    "    demo.launch()"
   ]
  }
 ],
 "metadata": {
  "kernelspec": {
   "display_name": "Python 3.10.4 ('ds_env')",
   "language": "python",
   "name": "python3"
  },
  "language_info": {
   "codemirror_mode": {
    "name": "ipython",
    "version": 3
   },
   "file_extension": ".py",
   "mimetype": "text/x-python",
   "name": "python",
   "nbconvert_exporter": "python",
   "pygments_lexer": "ipython3",
   "version": "3.10.4"
  },
  "orig_nbformat": 4,
  "vscode": {
   "interpreter": {
    "hash": "d779b7d47439e34625c7d1f77a06b1bba79b98af6304c943da3be42205d684df"
   }
  }
 },
 "nbformat": 4,
 "nbformat_minor": 2
}
